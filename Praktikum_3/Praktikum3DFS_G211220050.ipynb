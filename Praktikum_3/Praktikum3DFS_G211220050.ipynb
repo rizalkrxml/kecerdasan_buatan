{
  "nbformat": 4,
  "nbformat_minor": 0,
  "metadata": {
    "colab": {
      "provenance": []
    },
    "kernelspec": {
      "name": "python3",
      "display_name": "Python 3"
    },
    "language_info": {
      "name": "python"
    }
  },
  "cells": [
    {
      "cell_type": "code",
      "execution_count": null,
      "metadata": {
        "id": "BHf6vs4qNjaU"
      },
      "outputs": [],
      "source": [
        "peta = {\n",
        "    'A': set(['B']),\n",
        "    'B': set(['C', 'A']),\n",
        "    'C': set(['H', 'B', 'I', 'D']),\n",
        "    'D': set(['C', 'E', 'H', 'F']),\n",
        "    'E': set(['D']),\n",
        "    'F': set(['D', 'G']),\n",
        "    'G': set(['F', 'H']),\n",
        "    'H': set(['L', 'C', 'G', 'D']),\n",
        "    'I': set(['C', 'J', 'K']),\n",
        "    'J': set(['I']),\n",
        "    'K': set(['L', 'I']),\n",
        "    'L': set(['K', 'H'])\n",
        "}\n",
        "\n",
        "def dfs(graph, mulai, goal):\n",
        "    explored = []\n",
        "    stack = [[mulai]]\n",
        "\n",
        "    if mulai == goal:\n",
        "        return \"Awal adalah Tujuan\"\n",
        "\n",
        "    while stack:\n",
        "        jalur = stack.pop()\n",
        "        node = jalur[-1]\n",
        "\n",
        "        if node not in explored:\n",
        "            neighbours = graph[node]\n",
        "\n",
        "            for neighbour in neighbours:\n",
        "                jalur_baru = list(jalur)\n",
        "                jalur_baru.append(neighbour)\n",
        "                stack.append(jalur_baru)\n",
        "\n",
        "                if neighbour == goal:\n",
        "                    return jalur_baru\n",
        "\n",
        "            explored.append(node)\n",
        "\n",
        "    return \"Mohon maaf node yang Anda pilih tidak ditemukan.\"\n",
        "\n",
        "awal = input(\"Masukkan Awal: \")\n",
        "tujuan = input(\"Masukkan Tujuan: \")\n",
        "print(dfs(peta, awal, tujuan))"
      ]
    }
  ]
}