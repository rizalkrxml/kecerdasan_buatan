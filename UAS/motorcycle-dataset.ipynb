{
 "cells": [
  {
   "cell_type": "code",
   "execution_count": 1,
   "metadata": {
    "_cell_guid": "b1076dfc-b9ad-4769-8c92-a6c4dae69d19",
    "_uuid": "8f2839f25d086af736a60e9eeb907d3b93b6e0e5",
    "execution": {
     "iopub.execute_input": "2020-08-21T16:41:34.625454Z",
     "iopub.status.busy": "2020-08-21T16:41:34.624695Z",
     "iopub.status.idle": "2020-08-21T16:41:36.237805Z",
     "shell.execute_reply": "2020-08-21T16:41:36.238664Z"
    },
    "papermill": {
     "duration": 1.64987,
     "end_time": "2020-08-21T16:41:36.238923",
     "exception": false,
     "start_time": "2020-08-21T16:41:34.589053",
     "status": "completed"
    },
    "tags": []
   },
   "outputs": [
    {
     "name": "stdout",
     "output_type": "stream",
     "text": [
      "asean_motocycle_sales.csv"
     ]
    }
   ],
   "source": [
    "# This Python 3 environment comes with many helpful analytics libraries installed\n",
    "# It is defined by the kaggle/python Docker image: https://github.com/kaggle/docker-python\n",
    "# For example, here's several helpful packages to load\n",
    "\n",
    "import numpy as np # linear algebra\n",
    "import pandas as pd # data processing, CSV file I/O (e.g. pd.read_csv)\n",
    "import warnings\n",
    "warnings.filterwarnings('ignore')\n",
    "%matplotlib inline\n",
    "import matplotlib.pyplot as plt\n",
    "import seaborn as sns\n",
    "from sklearn.impute import SimpleImputer\n",
    "from sklearn.model_selection import StratifiedShuffleSplit\n",
    "from sklearn.preprocessing import OneHotEncoder\n",
    "from sklearn.preprocessing import StandardScaler\n",
    "from sklearn.compose import ColumnTransformer\n",
    "from sklearn.linear_model import LinearRegression\n",
    "from sklearn.metrics import mean_squared_error\n",
    "from sklearn.metrics import r2_score\n",
    "from sklearn.metrics import mean_absolute_error\n",
    "from sklearn.tree import DecisionTreeRegressor\n",
    "from sklearn.ensemble import RandomForestRegressor\n",
    "from sklearn.model_selection import RandomizedSearchCV\n",
    "from scipy.stats import randint\n",
    "\n",
    "# Input data files are available in the read-only \"../input/\" directory\n",
    "# For example, running this (by clicking run or pressing Shift+Enter) will list all files under the input directory\n",
    "\n",
    "import os\n",
    "for dirname, _, filenames in os.walk('asean_motocycle_sales.csv'):\n",
    "    for filename in filenames:\n",
    "        print(os.path.join(dirname, filename))\n",
    "\n",
    "# You can write up to 5GB to the current directory (/kaggle/working/) that gets preserved as output when you create a version using \"Save & Run All\" \n",
    "# You can also write temporary files to /kaggle/temp/, but they won't be saved outside of the current session"
   ]
  },
  {
   "cell_type": "code",
   "execution_count": 2,
   "metadata": {
    "execution": {
     "iopub.execute_input": "2020-08-21T16:41:36.285040Z",
     "iopub.status.busy": "2020-08-21T16:41:36.284345Z",
     "iopub.status.idle": "2020-08-21T16:41:36.314193Z",
     "shell.execute_reply": "2020-08-21T16:41:36.313560Z"
    },
    "papermill": {
     "duration": 0.054495,
     "end_time": "2020-08-21T16:41:36.314330",
     "exception": false,
     "start_time": "2020-08-21T16:41:36.259835",
     "status": "completed"
    },
    "tags": []
   },
   "outputs": [
    {
     "data": {
      "text/html": [
       "<div>\n",
       "<style scoped>\n",
       "    .dataframe tbody tr th:only-of-type {\n",
       "        vertical-align: middle;\n",
       "    }\n",
       "\n",
       "    .dataframe tbody tr th {\n",
       "        vertical-align: top;\n",
       "    }\n",
       "\n",
       "    .dataframe thead th {\n",
       "        text-align: right;\n",
       "    }\n",
       "</style>\n",
       "<table border=\"1\" class=\"dataframe\">\n",
       "  <thead>\n",
       "    <tr style=\"text-align: right;\">\n",
       "      <th></th>\n",
       "      <th>name</th>\n",
       "      <th>selling_price</th>\n",
       "      <th>year</th>\n",
       "      <th>seller_type</th>\n",
       "      <th>owner</th>\n",
       "      <th>km_driven</th>\n",
       "      <th>ex_showroom_price</th>\n",
       "    </tr>\n",
       "  </thead>\n",
       "  <tbody>\n",
       "    <tr>\n",
       "      <th>0</th>\n",
       "      <td>Royal Enfield Classic 350</td>\n",
       "      <td>175000</td>\n",
       "      <td>2019</td>\n",
       "      <td>Individual</td>\n",
       "      <td>1st owner</td>\n",
       "      <td>350</td>\n",
       "      <td>NaN</td>\n",
       "    </tr>\n",
       "    <tr>\n",
       "      <th>1</th>\n",
       "      <td>Honda Dio</td>\n",
       "      <td>45000</td>\n",
       "      <td>2017</td>\n",
       "      <td>Individual</td>\n",
       "      <td>1st owner</td>\n",
       "      <td>5650</td>\n",
       "      <td>NaN</td>\n",
       "    </tr>\n",
       "    <tr>\n",
       "      <th>2</th>\n",
       "      <td>Royal Enfield Classic Gunmetal Grey</td>\n",
       "      <td>150000</td>\n",
       "      <td>2018</td>\n",
       "      <td>Individual</td>\n",
       "      <td>1st owner</td>\n",
       "      <td>12000</td>\n",
       "      <td>148114.0</td>\n",
       "    </tr>\n",
       "    <tr>\n",
       "      <th>3</th>\n",
       "      <td>Yamaha Fazer FI V 2.0 [2016-2018]</td>\n",
       "      <td>65000</td>\n",
       "      <td>2015</td>\n",
       "      <td>Individual</td>\n",
       "      <td>1st owner</td>\n",
       "      <td>23000</td>\n",
       "      <td>89643.0</td>\n",
       "    </tr>\n",
       "    <tr>\n",
       "      <th>4</th>\n",
       "      <td>Yamaha SZ [2013-2014]</td>\n",
       "      <td>20000</td>\n",
       "      <td>2011</td>\n",
       "      <td>Individual</td>\n",
       "      <td>2nd owner</td>\n",
       "      <td>21000</td>\n",
       "      <td>NaN</td>\n",
       "    </tr>\n",
       "  </tbody>\n",
       "</table>\n",
       "</div>"
      ],
      "text/plain": [
       "                                  name  selling_price  year seller_type  \\\n",
       "0            Royal Enfield Classic 350         175000  2019  Individual   \n",
       "1                            Honda Dio          45000  2017  Individual   \n",
       "2  Royal Enfield Classic Gunmetal Grey         150000  2018  Individual   \n",
       "3    Yamaha Fazer FI V 2.0 [2016-2018]          65000  2015  Individual   \n",
       "4                Yamaha SZ [2013-2014]          20000  2011  Individual   \n",
       "\n",
       "       owner  km_driven  ex_showroom_price  \n",
       "0  1st owner        350                NaN  \n",
       "1  1st owner       5650                NaN  \n",
       "2  1st owner      12000           148114.0  \n",
       "3  1st owner      23000            89643.0  \n",
       "4  2nd owner      21000                NaN  "
      ]
     },
     "execution_count": 2,
     "metadata": {},
     "output_type": "execute_result"
    }
   ],
   "source": [
    "df = pd.read_csv('asean_motocycle_sales.csv')\n",
    "df.head()"
   ]
  },
  {
   "cell_type": "code",
   "execution_count": 3,
   "metadata": {
    "execution": {
     "iopub.execute_input": "2020-08-21T16:41:36.369106Z",
     "iopub.status.busy": "2020-08-21T16:41:36.368412Z",
     "iopub.status.idle": "2020-08-21T16:41:36.372779Z",
     "shell.execute_reply": "2020-08-21T16:41:36.371914Z"
    },
    "papermill": {
     "duration": 0.038935,
     "end_time": "2020-08-21T16:41:36.372934",
     "exception": false,
     "start_time": "2020-08-21T16:41:36.333999",
     "status": "completed"
    },
    "tags": []
   },
   "outputs": [
    {
     "name": "stdout",
     "output_type": "stream",
     "text": [
      "<class 'pandas.core.frame.DataFrame'>\n",
      "RangeIndex: 1061 entries, 0 to 1060\n",
      "Data columns (total 7 columns):\n",
      " #   Column             Non-Null Count  Dtype  \n",
      "---  ------             --------------  -----  \n",
      " 0   name               1061 non-null   object \n",
      " 1   selling_price      1061 non-null   int64  \n",
      " 2   year               1061 non-null   int64  \n",
      " 3   seller_type        1061 non-null   object \n",
      " 4   owner              1061 non-null   object \n",
      " 5   km_driven          1061 non-null   int64  \n",
      " 6   ex_showroom_price  626 non-null    float64\n",
      "dtypes: float64(1), int64(3), object(3)\n",
      "memory usage: 58.1+ KB\n"
     ]
    }
   ],
   "source": [
    "df.info()"
   ]
  },
  {
   "cell_type": "code",
   "execution_count": 4,
   "metadata": {
    "execution": {
     "iopub.execute_input": "2020-08-21T16:41:36.431532Z",
     "iopub.status.busy": "2020-08-21T16:41:36.430570Z",
     "iopub.status.idle": "2020-08-21T16:41:36.434390Z",
     "shell.execute_reply": "2020-08-21T16:41:36.433754Z"
    },
    "papermill": {
     "duration": 0.041473,
     "end_time": "2020-08-21T16:41:36.434506",
     "exception": false,
     "start_time": "2020-08-21T16:41:36.393033",
     "status": "completed"
    },
    "tags": []
   },
   "outputs": [
    {
     "name": "stdout",
     "output_type": "stream",
     "text": [
      "Bajaj Pulsar 150             41\n",
      "Royal Enfield Classic 350    27\n",
      "Honda Activa [2000-2015]     23\n",
      "Honda CB Hornet 160R         22\n",
      "Bajaj Pulsar 180             20\n",
      "                             ..\n",
      "TVS XL 100 Heavy Duty         1\n",
      "Suzuki GSX S750               1\n",
      "TVS Spectra                   1\n",
      "Yamaha Saluto RX              1\n",
      "Honda Dream Yuga              1\n",
      "Name: name, Length: 279, dtype: int64\n",
      "\n",
      "\n",
      "Individual    1055\n",
      "Dealer           6\n",
      "Name: seller_type, dtype: int64\n",
      "\n",
      "\n",
      "1st owner    924\n",
      "2nd owner    123\n",
      "3rd owner     11\n",
      "4th owner      3\n",
      "Name: owner, dtype: int64\n",
      "\n",
      "\n"
     ]
    }
   ],
   "source": [
    "for i in df.select_dtypes(include='object'):\n",
    "    print(df[i].value_counts(), end='\\n'*3)"
   ]
  },
  {
   "cell_type": "code",
   "execution_count": 5,
   "metadata": {
    "execution": {
     "iopub.execute_input": "2020-08-21T16:41:36.484523Z",
     "iopub.status.busy": "2020-08-21T16:41:36.483649Z",
     "iopub.status.idle": "2020-08-21T16:41:36.490857Z",
     "shell.execute_reply": "2020-08-21T16:41:36.490151Z"
    },
    "papermill": {
     "duration": 0.034607,
     "end_time": "2020-08-21T16:41:36.490978",
     "exception": false,
     "start_time": "2020-08-21T16:41:36.456371",
     "status": "completed"
    },
    "tags": []
   },
   "outputs": [],
   "source": [
    "df.replace({'1st owner':1, '2nd owner':2, '3rd owner':3, '4th owner':4}, inplace=True)\n",
    "df.rename(columns = {'owner':'prev_owners'}, inplace=True)"
   ]
  },
  {
   "cell_type": "code",
   "execution_count": 6,
   "metadata": {
    "execution": {
     "iopub.execute_input": "2020-08-21T16:41:36.537731Z",
     "iopub.status.busy": "2020-08-21T16:41:36.536251Z",
     "iopub.status.idle": "2020-08-21T16:41:36.559836Z",
     "shell.execute_reply": "2020-08-21T16:41:36.559067Z"
    },
    "papermill": {
     "duration": 0.048453,
     "end_time": "2020-08-21T16:41:36.559967",
     "exception": false,
     "start_time": "2020-08-21T16:41:36.511514",
     "status": "completed"
    },
    "tags": []
   },
   "outputs": [],
   "source": [
    "current_year = 2020\n",
    "df['age'] = current_year - df['year']"
   ]
  },
  {
   "cell_type": "code",
   "execution_count": 7,
   "metadata": {
    "execution": {
     "iopub.execute_input": "2020-08-21T16:41:36.612070Z",
     "iopub.status.busy": "2020-08-21T16:41:36.611271Z",
     "iopub.status.idle": "2020-08-21T16:41:36.614605Z",
     "shell.execute_reply": "2020-08-21T16:41:36.614049Z"
    },
    "papermill": {
     "duration": 0.033981,
     "end_time": "2020-08-21T16:41:36.614726",
     "exception": false,
     "start_time": "2020-08-21T16:41:36.580745",
     "status": "completed"
    },
    "tags": []
   },
   "outputs": [],
   "source": [
    "df.drop(['year','name'], axis=1, inplace=True)"
   ]
  },
  {
   "cell_type": "code",
   "execution_count": 8,
   "metadata": {
    "execution": {
     "iopub.execute_input": "2020-08-21T16:41:36.664041Z",
     "iopub.status.busy": "2020-08-21T16:41:36.663271Z",
     "iopub.status.idle": "2020-08-21T16:41:36.668420Z",
     "shell.execute_reply": "2020-08-21T16:41:36.667741Z"
    },
    "papermill": {
     "duration": 0.033067,
     "end_time": "2020-08-21T16:41:36.668539",
     "exception": false,
     "start_time": "2020-08-21T16:41:36.635472",
     "status": "completed"
    },
    "tags": []
   },
   "outputs": [],
   "source": [
    "df_2 = df.copy()\n",
    "new_df = df.dropna().copy()"
   ]
  },
  {
   "cell_type": "code",
   "execution_count": 9,
   "metadata": {
    "execution": {
     "iopub.execute_input": "2020-08-21T16:41:36.720230Z",
     "iopub.status.busy": "2020-08-21T16:41:36.719353Z",
     "iopub.status.idle": "2020-08-21T16:41:36.727924Z",
     "shell.execute_reply": "2020-08-21T16:41:36.727344Z"
    },
    "papermill": {
     "duration": 0.038765,
     "end_time": "2020-08-21T16:41:36.728042",
     "exception": false,
     "start_time": "2020-08-21T16:41:36.689277",
     "status": "completed"
    },
    "tags": []
   },
   "outputs": [],
   "source": [
    "impute = SimpleImputer(strategy = 'median')\n",
    "\n",
    "df_2_num = df_2.select_dtypes(exclude='object')\n",
    "df_2_cat = df_2['seller_type']\n",
    "x = impute.fit_transform(df_2_num)"
   ]
  },
  {
   "cell_type": "code",
   "execution_count": 10,
   "metadata": {
    "execution": {
     "iopub.execute_input": "2020-08-21T16:41:36.780893Z",
     "iopub.status.busy": "2020-08-21T16:41:36.780116Z",
     "iopub.status.idle": "2020-08-21T16:41:36.783347Z",
     "shell.execute_reply": "2020-08-21T16:41:36.782680Z"
    },
    "papermill": {
     "duration": 0.033226,
     "end_time": "2020-08-21T16:41:36.783470",
     "exception": false,
     "start_time": "2020-08-21T16:41:36.750244",
     "status": "completed"
    },
    "tags": []
   },
   "outputs": [],
   "source": [
    "df_2 = pd.DataFrame(x, columns=df_2.select_dtypes(exclude='object').columns).copy()\n",
    "\n",
    "df_2['seller_type'] = df_2_cat"
   ]
  },
  {
   "cell_type": "code",
   "execution_count": 11,
   "metadata": {
    "execution": {
     "iopub.execute_input": "2020-08-21T16:41:36.837665Z",
     "iopub.status.busy": "2020-08-21T16:41:36.836593Z",
     "iopub.status.idle": "2020-08-21T16:41:36.840879Z",
     "shell.execute_reply": "2020-08-21T16:41:36.840231Z"
    },
    "papermill": {
     "duration": 0.036526,
     "end_time": "2020-08-21T16:41:36.840998",
     "exception": false,
     "start_time": "2020-08-21T16:41:36.804472",
     "status": "completed"
    },
    "tags": []
   },
   "outputs": [
    {
     "data": {
      "text/html": [
       "<div>\n",
       "<style scoped>\n",
       "    .dataframe tbody tr th:only-of-type {\n",
       "        vertical-align: middle;\n",
       "    }\n",
       "\n",
       "    .dataframe tbody tr th {\n",
       "        vertical-align: top;\n",
       "    }\n",
       "\n",
       "    .dataframe thead th {\n",
       "        text-align: right;\n",
       "    }\n",
       "</style>\n",
       "<table border=\"1\" class=\"dataframe\">\n",
       "  <thead>\n",
       "    <tr style=\"text-align: right;\">\n",
       "      <th></th>\n",
       "      <th>selling_price</th>\n",
       "      <th>seller_type</th>\n",
       "      <th>prev_owners</th>\n",
       "      <th>km_driven</th>\n",
       "      <th>ex_showroom_price</th>\n",
       "      <th>age</th>\n",
       "    </tr>\n",
       "  </thead>\n",
       "  <tbody>\n",
       "    <tr>\n",
       "      <th>2</th>\n",
       "      <td>150000</td>\n",
       "      <td>Individual</td>\n",
       "      <td>1</td>\n",
       "      <td>12000</td>\n",
       "      <td>148114.0</td>\n",
       "      <td>2</td>\n",
       "    </tr>\n",
       "    <tr>\n",
       "      <th>3</th>\n",
       "      <td>65000</td>\n",
       "      <td>Individual</td>\n",
       "      <td>1</td>\n",
       "      <td>23000</td>\n",
       "      <td>89643.0</td>\n",
       "      <td>5</td>\n",
       "    </tr>\n",
       "    <tr>\n",
       "      <th>5</th>\n",
       "      <td>18000</td>\n",
       "      <td>Individual</td>\n",
       "      <td>1</td>\n",
       "      <td>60000</td>\n",
       "      <td>53857.0</td>\n",
       "      <td>10</td>\n",
       "    </tr>\n",
       "    <tr>\n",
       "      <th>6</th>\n",
       "      <td>78500</td>\n",
       "      <td>Individual</td>\n",
       "      <td>1</td>\n",
       "      <td>17000</td>\n",
       "      <td>87719.0</td>\n",
       "      <td>2</td>\n",
       "    </tr>\n",
       "    <tr>\n",
       "      <th>9</th>\n",
       "      <td>50000</td>\n",
       "      <td>Individual</td>\n",
       "      <td>1</td>\n",
       "      <td>42000</td>\n",
       "      <td>60122.0</td>\n",
       "      <td>4</td>\n",
       "    </tr>\n",
       "  </tbody>\n",
       "</table>\n",
       "</div>"
      ],
      "text/plain": [
       "   selling_price seller_type  prev_owners  km_driven  ex_showroom_price  age\n",
       "2         150000  Individual            1      12000           148114.0    2\n",
       "3          65000  Individual            1      23000            89643.0    5\n",
       "5          18000  Individual            1      60000            53857.0   10\n",
       "6          78500  Individual            1      17000            87719.0    2\n",
       "9          50000  Individual            1      42000            60122.0    4"
      ]
     },
     "execution_count": 11,
     "metadata": {},
     "output_type": "execute_result"
    }
   ],
   "source": [
    "new_df.head()"
   ]
  },
  {
   "cell_type": "code",
   "execution_count": 12,
   "metadata": {
    "execution": {
     "iopub.execute_input": "2020-08-21T16:41:36.889881Z",
     "iopub.status.busy": "2020-08-21T16:41:36.889187Z",
     "iopub.status.idle": "2020-08-21T16:41:38.042662Z",
     "shell.execute_reply": "2020-08-21T16:41:38.041803Z"
    },
    "papermill": {
     "duration": 1.180379,
     "end_time": "2020-08-21T16:41:38.042838",
     "exception": false,
     "start_time": "2020-08-21T16:41:36.862459",
     "status": "completed"
    },
    "tags": []
   },
   "outputs": [
    {
     "data": {
      "image/png": "[encoded data removed]",
      "text/plain": [
       "<Figure size 1440x1080 with 6 Axes>"
      ]
     },
     "metadata": {
      "needs_background": "light"
     },
     "output_type": "display_data"
    }
   ],
   "source": [
    "new_df.hist(figsize=(20,15), grid=0, bins=20);"
   ]
  },
  {
   "cell_type": "code",
   "execution_count": 13,
   "metadata": {
    "execution": {
     "iopub.execute_input": "2020-08-21T16:41:38.111369Z",
     "iopub.status.busy": "2020-08-21T16:41:38.110251Z",
     "iopub.status.idle": "2020-08-21T16:41:38.114567Z",
     "shell.execute_reply": "2020-08-21T16:41:38.115026Z"
    },
    "papermill": {
     "duration": 0.047906,
     "end_time": "2020-08-21T16:41:38.115189",
     "exception": false,
     "start_time": "2020-08-21T16:41:38.067283",
     "status": "completed"
    },
    "tags": []
   },
   "outputs": [
    {
     "data": {
      "text/html": [
       "<div>\n",
       "<style scoped>\n",
       "    .dataframe tbody tr th:only-of-type {\n",
       "        vertical-align: middle;\n",
       "    }\n",
       "\n",
       "    .dataframe tbody tr th {\n",
       "        vertical-align: top;\n",
       "    }\n",
       "\n",
       "    .dataframe thead th {\n",
       "        text-align: right;\n",
       "    }\n",
       "</style>\n",
       "<table border=\"1\" class=\"dataframe\">\n",
       "  <thead>\n",
       "    <tr style=\"text-align: right;\">\n",
       "      <th></th>\n",
       "      <th>selling_price</th>\n",
       "      <th>seller_type</th>\n",
       "      <th>prev_owners</th>\n",
       "      <th>km_driven</th>\n",
       "      <th>ex_showroom_price</th>\n",
       "      <th>age</th>\n",
       "    </tr>\n",
       "  </thead>\n",
       "  <tbody>\n",
       "    <tr>\n",
       "      <th>2</th>\n",
       "      <td>150000</td>\n",
       "      <td>Individual</td>\n",
       "      <td>1</td>\n",
       "      <td>12000</td>\n",
       "      <td>148114.0</td>\n",
       "      <td>2</td>\n",
       "    </tr>\n",
       "    <tr>\n",
       "      <th>13</th>\n",
       "      <td>365000</td>\n",
       "      <td>Individual</td>\n",
       "      <td>1</td>\n",
       "      <td>1127</td>\n",
       "      <td>351680.0</td>\n",
       "      <td>1</td>\n",
       "    </tr>\n",
       "    <tr>\n",
       "      <th>18</th>\n",
       "      <td>150000</td>\n",
       "      <td>Individual</td>\n",
       "      <td>1</td>\n",
       "      <td>23000</td>\n",
       "      <td>148114.0</td>\n",
       "      <td>2</td>\n",
       "    </tr>\n",
       "    <tr>\n",
       "      <th>19</th>\n",
       "      <td>120000</td>\n",
       "      <td>Individual</td>\n",
       "      <td>1</td>\n",
       "      <td>39000</td>\n",
       "      <td>132680.0</td>\n",
       "      <td>2</td>\n",
       "    </tr>\n",
       "    <tr>\n",
       "      <th>37</th>\n",
       "      <td>120000</td>\n",
       "      <td>Individual</td>\n",
       "      <td>1</td>\n",
       "      <td>16000</td>\n",
       "      <td>202310.0</td>\n",
       "      <td>4</td>\n",
       "    </tr>\n",
       "    <tr>\n",
       "      <th>...</th>\n",
       "      <td>...</td>\n",
       "      <td>...</td>\n",
       "      <td>...</td>\n",
       "      <td>...</td>\n",
       "      <td>...</td>\n",
       "      <td>...</td>\n",
       "    </tr>\n",
       "    <tr>\n",
       "      <th>978</th>\n",
       "      <td>110000</td>\n",
       "      <td>Individual</td>\n",
       "      <td>1</td>\n",
       "      <td>26000</td>\n",
       "      <td>147000.0</td>\n",
       "      <td>3</td>\n",
       "    </tr>\n",
       "    <tr>\n",
       "      <th>979</th>\n",
       "      <td>105000</td>\n",
       "      <td>Individual</td>\n",
       "      <td>1</td>\n",
       "      <td>5400</td>\n",
       "      <td>190000.0</td>\n",
       "      <td>5</td>\n",
       "    </tr>\n",
       "    <tr>\n",
       "      <th>980</th>\n",
       "      <td>105000</td>\n",
       "      <td>Individual</td>\n",
       "      <td>1</td>\n",
       "      <td>5700</td>\n",
       "      <td>126000.0</td>\n",
       "      <td>2</td>\n",
       "    </tr>\n",
       "    <tr>\n",
       "      <th>981</th>\n",
       "      <td>105000</td>\n",
       "      <td>Individual</td>\n",
       "      <td>1</td>\n",
       "      <td>6900</td>\n",
       "      <td>150000.0</td>\n",
       "      <td>7</td>\n",
       "    </tr>\n",
       "    <tr>\n",
       "      <th>982</th>\n",
       "      <td>105000</td>\n",
       "      <td>Individual</td>\n",
       "      <td>1</td>\n",
       "      <td>6000</td>\n",
       "      <td>117000.0</td>\n",
       "      <td>2</td>\n",
       "    </tr>\n",
       "  </tbody>\n",
       "</table>\n",
       "<p>75 rows × 6 columns</p>\n",
       "</div>"
      ],
      "text/plain": [
       "     selling_price seller_type  prev_owners  km_driven  ex_showroom_price  age\n",
       "2           150000  Individual            1      12000           148114.0    2\n",
       "13          365000  Individual            1       1127           351680.0    1\n",
       "18          150000  Individual            1      23000           148114.0    2\n",
       "19          120000  Individual            1      39000           132680.0    2\n",
       "37          120000  Individual            1      16000           202310.0    4\n",
       "..             ...         ...          ...        ...                ...  ...\n",
       "978         110000  Individual            1      26000           147000.0    3\n",
       "979         105000  Individual            1       5400           190000.0    5\n",
       "980         105000  Individual            1       5700           126000.0    2\n",
       "981         105000  Individual            1       6900           150000.0    7\n",
       "982         105000  Individual            1       6000           117000.0    2\n",
       "\n",
       "[75 rows x 6 columns]"
      ]
     },
     "execution_count": 13,
     "metadata": {},
     "output_type": "execute_result"
    }
   ],
   "source": [
    "new_df[new_df.selling_price>100000]"
   ]
  },
  {
   "cell_type": "code",
   "execution_count": 14,
   "metadata": {
    "execution": {
     "iopub.execute_input": "2020-08-21T16:41:38.170097Z",
     "iopub.status.busy": "2020-08-21T16:41:38.169229Z",
     "iopub.status.idle": "2020-08-21T16:41:38.175365Z",
     "shell.execute_reply": "2020-08-21T16:41:38.174757Z"
    },
    "papermill": {
     "duration": 0.036025,
     "end_time": "2020-08-21T16:41:38.175504",
     "exception": false,
     "start_time": "2020-08-21T16:41:38.139479",
     "status": "completed"
    },
    "tags": []
   },
   "outputs": [],
   "source": [
    "new_df['price_category'] = pd.cut(new_df['selling_price'], bins=[0,50000,100000,np.inf],labels=[1,2,3])"
   ]
  },
  {
   "cell_type": "code",
   "execution_count": 15,
   "metadata": {
    "execution": {
     "iopub.execute_input": "2020-08-21T16:41:38.230928Z",
     "iopub.status.busy": "2020-08-21T16:41:38.230190Z",
     "iopub.status.idle": "2020-08-21T16:41:38.238592Z",
     "shell.execute_reply": "2020-08-21T16:41:38.237871Z"
    },
    "papermill": {
     "duration": 0.03967,
     "end_time": "2020-08-21T16:41:38.238714",
     "exception": false,
     "start_time": "2020-08-21T16:41:38.199044",
     "status": "completed"
    },
    "tags": []
   },
   "outputs": [],
   "source": [
    "split = StratifiedShuffleSplit(random_state=42, n_splits=1, test_size=0.25)\n",
    "\n",
    "for i,j in split.split(new_df, new_df['price_category']):\n",
    "    new_df_train = new_df.iloc[i]\n",
    "    new_df_test = new_df.iloc[j]"
   ]
  },
  {
   "cell_type": "code",
   "execution_count": 16,
   "metadata": {
    "execution": {
     "iopub.execute_input": "2020-08-21T16:41:38.294357Z",
     "iopub.status.busy": "2020-08-21T16:41:38.293475Z",
     "iopub.status.idle": "2020-08-21T16:41:38.296975Z",
     "shell.execute_reply": "2020-08-21T16:41:38.296251Z"
    },
    "papermill": {
     "duration": 0.034836,
     "end_time": "2020-08-21T16:41:38.297105",
     "exception": false,
     "start_time": "2020-08-21T16:41:38.262269",
     "status": "completed"
    },
    "tags": []
   },
   "outputs": [],
   "source": [
    "for i in (new_df_train, new_df_test):\n",
    "    i.drop('price_category', axis=1, inplace=True)"
   ]
  },
  {
   "cell_type": "code",
   "execution_count": 17,
   "metadata": {
    "execution": {
     "iopub.execute_input": "2020-08-21T16:41:38.354850Z",
     "iopub.status.busy": "2020-08-21T16:41:38.353800Z",
     "iopub.status.idle": "2020-08-21T16:41:38.367189Z",
     "shell.execute_reply": "2020-08-21T16:41:38.366549Z"
    },
    "papermill": {
     "duration": 0.046472,
     "end_time": "2020-08-21T16:41:38.367332",
     "exception": false,
     "start_time": "2020-08-21T16:41:38.320860",
     "status": "completed"
    },
    "tags": []
   },
   "outputs": [
    {
     "data": {
      "text/html": [
       "<div>\n",
       "<style scoped>\n",
       "    .dataframe tbody tr th:only-of-type {\n",
       "        vertical-align: middle;\n",
       "    }\n",
       "\n",
       "    .dataframe tbody tr th {\n",
       "        vertical-align: top;\n",
       "    }\n",
       "\n",
       "    .dataframe thead th {\n",
       "        text-align: right;\n",
       "    }\n",
       "</style>\n",
       "<table border=\"1\" class=\"dataframe\">\n",
       "  <thead>\n",
       "    <tr style=\"text-align: right;\">\n",
       "      <th></th>\n",
       "      <th>selling_price</th>\n",
       "      <th>prev_owners</th>\n",
       "      <th>km_driven</th>\n",
       "      <th>ex_showroom_price</th>\n",
       "      <th>age</th>\n",
       "    </tr>\n",
       "  </thead>\n",
       "  <tbody>\n",
       "    <tr>\n",
       "      <th>selling_price</th>\n",
       "      <td>1.000000</td>\n",
       "      <td>0.084503</td>\n",
       "      <td>-0.183638</td>\n",
       "      <td>0.920874</td>\n",
       "      <td>-0.324997</td>\n",
       "    </tr>\n",
       "    <tr>\n",
       "      <th>prev_owners</th>\n",
       "      <td>0.084503</td>\n",
       "      <td>1.000000</td>\n",
       "      <td>-0.029822</td>\n",
       "      <td>0.164207</td>\n",
       "      <td>0.150631</td>\n",
       "    </tr>\n",
       "    <tr>\n",
       "      <th>km_driven</th>\n",
       "      <td>-0.183638</td>\n",
       "      <td>-0.029822</td>\n",
       "      <td>1.000000</td>\n",
       "      <td>-0.121016</td>\n",
       "      <td>0.304220</td>\n",
       "    </tr>\n",
       "    <tr>\n",
       "      <th>ex_showroom_price</th>\n",
       "      <td>0.920874</td>\n",
       "      <td>0.164207</td>\n",
       "      <td>-0.121016</td>\n",
       "      <td>1.000000</td>\n",
       "      <td>-0.102869</td>\n",
       "    </tr>\n",
       "    <tr>\n",
       "      <th>age</th>\n",
       "      <td>-0.324997</td>\n",
       "      <td>0.150631</td>\n",
       "      <td>0.304220</td>\n",
       "      <td>-0.102869</td>\n",
       "      <td>1.000000</td>\n",
       "    </tr>\n",
       "  </tbody>\n",
       "</table>\n",
       "</div>"
      ],
      "text/plain": [
       "                   selling_price  prev_owners  km_driven  ex_showroom_price  \\\n",
       "selling_price           1.000000     0.084503  -0.183638           0.920874   \n",
       "prev_owners             0.084503     1.000000  -0.029822           0.164207   \n",
       "km_driven              -0.183638    -0.029822   1.000000          -0.121016   \n",
       "ex_showroom_price       0.920874     0.164207  -0.121016           1.000000   \n",
       "age                    -0.324997     0.150631   0.304220          -0.102869   \n",
       "\n",
       "                        age  \n",
       "selling_price     -0.324997  \n",
       "prev_owners        0.150631  \n",
       "km_driven          0.304220  \n",
       "ex_showroom_price -0.102869  \n",
       "age                1.000000  "
      ]
     },
     "execution_count": 17,
     "metadata": {},
     "output_type": "execute_result"
    }
   ],
   "source": [
    "new_df_train.corr()"
   ]
  },
  {
   "cell_type": "code",
   "execution_count": 18,
   "metadata": {
    "execution": {
     "iopub.execute_input": "2020-08-21T16:41:38.439335Z",
     "iopub.status.busy": "2020-08-21T16:41:38.438344Z",
     "iopub.status.idle": "2020-08-21T16:41:44.784966Z",
     "shell.execute_reply": "2020-08-21T16:41:44.785521Z"
    },
    "papermill": {
     "duration": 6.392325,
     "end_time": "2020-08-21T16:41:44.785707",
     "exception": false,
     "start_time": "2020-08-21T16:41:38.393382",
     "status": "completed"
    },
    "tags": []
   },
   "outputs": [
    {
     "data": {
      "image/png": "[encoded data removed]",
      "text/plain": [
       "<Figure size 900x900 with 30 Axes>"
      ]
     },
     "metadata": {
      "needs_background": "light"
     },
     "output_type": "display_data"
    }
   ],
   "source": [
    "sns.pairplot(new_df_train);"
   ]
  },
  {
   "cell_type": "code",
   "execution_count": 19,
   "metadata": {
    "execution": {
     "iopub.execute_input": "2020-08-21T16:41:44.847058Z",
     "iopub.status.busy": "2020-08-21T16:41:44.846254Z",
     "iopub.status.idle": "2020-08-21T16:41:44.851221Z",
     "shell.execute_reply": "2020-08-21T16:41:44.850486Z"
    },
    "papermill": {
     "duration": 0.038681,
     "end_time": "2020-08-21T16:41:44.851374",
     "exception": false,
     "start_time": "2020-08-21T16:41:44.812693",
     "status": "completed"
    },
    "tags": []
   },
   "outputs": [],
   "source": [
    "new_df_train_labels = new_df_train['selling_price']\n",
    "new_df_train.drop('selling_price', axis=1, inplace=True)"
   ]
  },
  {
   "cell_type": "code",
   "execution_count": 20,
   "metadata": {
    "execution": {
     "iopub.execute_input": "2020-08-21T16:41:44.915255Z",
     "iopub.status.busy": "2020-08-21T16:41:44.914590Z",
     "iopub.status.idle": "2020-08-21T16:41:44.917908Z",
     "shell.execute_reply": "2020-08-21T16:41:44.917250Z"
    },
    "papermill": {
     "duration": 0.039088,
     "end_time": "2020-08-21T16:41:44.918043",
     "exception": false,
     "start_time": "2020-08-21T16:41:44.878955",
     "status": "completed"
    },
    "tags": []
   },
   "outputs": [],
   "source": [
    "num = new_df_train.select_dtypes(exclude='object').columns\n",
    "cat = new_df_train.select_dtypes(include='object').columns"
   ]
  },
  {
   "cell_type": "code",
   "execution_count": 21,
   "metadata": {
    "execution": {
     "iopub.execute_input": "2020-08-21T16:41:44.978467Z",
     "iopub.status.busy": "2020-08-21T16:41:44.977786Z",
     "iopub.status.idle": "2020-08-21T16:41:44.989243Z",
     "shell.execute_reply": "2020-08-21T16:41:44.988582Z"
    },
    "papermill": {
     "duration": 0.04418,
     "end_time": "2020-08-21T16:41:44.989392",
     "exception": false,
     "start_time": "2020-08-21T16:41:44.945212",
     "status": "completed"
    },
    "tags": []
   },
   "outputs": [
    {
     "data": {
      "text/plain": [
       "ColumnTransformer(transformers=[('num', StandardScaler(),\n",
       "                                 Index(['prev_owners', 'km_driven', 'ex_showroom_price', 'age'], dtype='object')),\n",
       "                                ('cat', OneHotEncoder(),\n",
       "                                 Index(['seller_type'], dtype='object'))])"
      ]
     },
     "execution_count": 21,
     "metadata": {},
     "output_type": "execute_result"
    }
   ],
   "source": [
    "col_transformer = ColumnTransformer([('num',StandardScaler(), num),('cat', OneHotEncoder(), cat)])\n",
    "col_transformer"
   ]
  },
  {
   "cell_type": "code",
   "execution_count": 22,
   "metadata": {
    "execution": {
     "iopub.execute_input": "2020-08-21T16:41:45.066355Z",
     "iopub.status.busy": "2020-08-21T16:41:45.065558Z",
     "iopub.status.idle": "2020-08-21T16:41:45.074269Z",
     "shell.execute_reply": "2020-08-21T16:41:45.073533Z"
    },
    "papermill": {
     "duration": 0.054879,
     "end_time": "2020-08-21T16:41:45.074421",
     "exception": false,
     "start_time": "2020-08-21T16:41:45.019542",
     "status": "completed"
    },
    "tags": []
   },
   "outputs": [
    {
     "data": {
      "text/plain": [
       "array([[-0.34544427, -0.41044859,  0.1227951 ,  0.26680467,  0.        ,\n",
       "         1.        ],\n",
       "       [-0.34544427, -0.27241154, -0.51149086,  0.59437375,  0.        ,\n",
       "         1.        ],\n",
       "       [-0.34544427,  0.31917579, -0.12725525,  0.59437375,  0.        ,\n",
       "         1.        ],\n",
       "       ...,\n",
       "       [-0.34544427, -0.32269647, -0.54374951, -0.3883335 ,  0.        ,\n",
       "         1.        ],\n",
       "       [-0.34544427, -0.37100943, -0.16400546,  0.92194283,  0.        ,\n",
       "         1.        ],\n",
       "       [-0.34544427, -0.49721473, -0.33368379, -0.71590258,  0.        ,\n",
       "         1.        ]])"
      ]
     },
     "execution_count": 22,
     "metadata": {},
     "output_type": "execute_result"
    }
   ],
   "source": [
    "new_df_train_prepared = col_transformer.fit_transform(new_df_train)\n",
    "new_df_train_prepared"
   ]
  },
  {
   "cell_type": "code",
   "execution_count": 23,
   "metadata": {
    "execution": {
     "iopub.execute_input": "2020-08-21T16:41:45.151384Z",
     "iopub.status.busy": "2020-08-21T16:41:45.150384Z",
     "iopub.status.idle": "2020-08-21T16:41:45.155354Z",
     "shell.execute_reply": "2020-08-21T16:41:45.154647Z"
    },
    "papermill": {
     "duration": 0.051684,
     "end_time": "2020-08-21T16:41:45.155497",
     "exception": false,
     "start_time": "2020-08-21T16:41:45.103813",
     "status": "completed"
    },
    "tags": []
   },
   "outputs": [
    {
     "data": {
      "text/html": [
       "<div>\n",
       "<style scoped>\n",
       "    .dataframe tbody tr th:only-of-type {\n",
       "        vertical-align: middle;\n",
       "    }\n",
       "\n",
       "    .dataframe tbody tr th {\n",
       "        vertical-align: top;\n",
       "    }\n",
       "\n",
       "    .dataframe thead th {\n",
       "        text-align: right;\n",
       "    }\n",
       "</style>\n",
       "<table border=\"1\" class=\"dataframe\">\n",
       "  <thead>\n",
       "    <tr style=\"text-align: right;\">\n",
       "      <th></th>\n",
       "      <th>0</th>\n",
       "      <th>1</th>\n",
       "      <th>2</th>\n",
       "      <th>3</th>\n",
       "      <th>4</th>\n",
       "      <th>5</th>\n",
       "    </tr>\n",
       "  </thead>\n",
       "  <tbody>\n",
       "    <tr>\n",
       "      <th>0</th>\n",
       "      <td>-0.345444</td>\n",
       "      <td>-0.410449</td>\n",
       "      <td>0.122795</td>\n",
       "      <td>0.266805</td>\n",
       "      <td>0.0</td>\n",
       "      <td>1.0</td>\n",
       "    </tr>\n",
       "    <tr>\n",
       "      <th>1</th>\n",
       "      <td>-0.345444</td>\n",
       "      <td>-0.272412</td>\n",
       "      <td>-0.511491</td>\n",
       "      <td>0.594374</td>\n",
       "      <td>0.0</td>\n",
       "      <td>1.0</td>\n",
       "    </tr>\n",
       "    <tr>\n",
       "      <th>2</th>\n",
       "      <td>-0.345444</td>\n",
       "      <td>0.319176</td>\n",
       "      <td>-0.127255</td>\n",
       "      <td>0.594374</td>\n",
       "      <td>0.0</td>\n",
       "      <td>1.0</td>\n",
       "    </tr>\n",
       "    <tr>\n",
       "      <th>3</th>\n",
       "      <td>-0.345444</td>\n",
       "      <td>9.192986</td>\n",
       "      <td>-0.472007</td>\n",
       "      <td>0.921943</td>\n",
       "      <td>0.0</td>\n",
       "      <td>1.0</td>\n",
       "    </tr>\n",
       "    <tr>\n",
       "      <th>4</th>\n",
       "      <td>-0.345444</td>\n",
       "      <td>0.338895</td>\n",
       "      <td>-0.419060</td>\n",
       "      <td>-0.388333</td>\n",
       "      <td>0.0</td>\n",
       "      <td>1.0</td>\n",
       "    </tr>\n",
       "    <tr>\n",
       "      <th>...</th>\n",
       "      <td>...</td>\n",
       "      <td>...</td>\n",
       "      <td>...</td>\n",
       "      <td>...</td>\n",
       "      <td>...</td>\n",
       "      <td>...</td>\n",
       "    </tr>\n",
       "    <tr>\n",
       "      <th>464</th>\n",
       "      <td>-0.345444</td>\n",
       "      <td>0.220578</td>\n",
       "      <td>0.061769</td>\n",
       "      <td>0.921943</td>\n",
       "      <td>0.0</td>\n",
       "      <td>1.0</td>\n",
       "    </tr>\n",
       "    <tr>\n",
       "      <th>465</th>\n",
       "      <td>2.354778</td>\n",
       "      <td>-0.585953</td>\n",
       "      <td>0.655923</td>\n",
       "      <td>-1.043472</td>\n",
       "      <td>0.0</td>\n",
       "      <td>1.0</td>\n",
       "    </tr>\n",
       "    <tr>\n",
       "      <th>466</th>\n",
       "      <td>-0.345444</td>\n",
       "      <td>-0.322696</td>\n",
       "      <td>-0.543750</td>\n",
       "      <td>-0.388333</td>\n",
       "      <td>0.0</td>\n",
       "      <td>1.0</td>\n",
       "    </tr>\n",
       "    <tr>\n",
       "      <th>467</th>\n",
       "      <td>-0.345444</td>\n",
       "      <td>-0.371009</td>\n",
       "      <td>-0.164005</td>\n",
       "      <td>0.921943</td>\n",
       "      <td>0.0</td>\n",
       "      <td>1.0</td>\n",
       "    </tr>\n",
       "    <tr>\n",
       "      <th>468</th>\n",
       "      <td>-0.345444</td>\n",
       "      <td>-0.497215</td>\n",
       "      <td>-0.333684</td>\n",
       "      <td>-0.715903</td>\n",
       "      <td>0.0</td>\n",
       "      <td>1.0</td>\n",
       "    </tr>\n",
       "  </tbody>\n",
       "</table>\n",
       "<p>469 rows × 6 columns</p>\n",
       "</div>"
      ],
      "text/plain": [
       "            0         1         2         3    4    5\n",
       "0   -0.345444 -0.410449  0.122795  0.266805  0.0  1.0\n",
       "1   -0.345444 -0.272412 -0.511491  0.594374  0.0  1.0\n",
       "2   -0.345444  0.319176 -0.127255  0.594374  0.0  1.0\n",
       "3   -0.345444  9.192986 -0.472007  0.921943  0.0  1.0\n",
       "4   -0.345444  0.338895 -0.419060 -0.388333  0.0  1.0\n",
       "..        ...       ...       ...       ...  ...  ...\n",
       "464 -0.345444  0.220578  0.061769  0.921943  0.0  1.0\n",
       "465  2.354778 -0.585953  0.655923 -1.043472  0.0  1.0\n",
       "466 -0.345444 -0.322696 -0.543750 -0.388333  0.0  1.0\n",
       "467 -0.345444 -0.371009 -0.164005  0.921943  0.0  1.0\n",
       "468 -0.345444 -0.497215 -0.333684 -0.715903  0.0  1.0\n",
       "\n",
       "[469 rows x 6 columns]"
      ]
     },
     "execution_count": 23,
     "metadata": {},
     "output_type": "execute_result"
    }
   ],
   "source": [
    "new_df_train_prepared = pd.DataFrame(new_df_train_prepared)\n",
    "new_df_train_prepared"
   ]
  },
  {
   "cell_type": "code",
   "execution_count": 24,
   "metadata": {
    "execution": {
     "iopub.execute_input": "2020-08-21T16:41:45.222677Z",
     "iopub.status.busy": "2020-08-21T16:41:45.221612Z",
     "iopub.status.idle": "2020-08-21T16:41:45.224618Z",
     "shell.execute_reply": "2020-08-21T16:41:45.223938Z"
    },
    "papermill": {
     "duration": 0.040023,
     "end_time": "2020-08-21T16:41:45.224737",
     "exception": false,
     "start_time": "2020-08-21T16:41:45.184714",
     "status": "completed"
    },
    "tags": []
   },
   "outputs": [],
   "source": [
    "new_df_train_prepared.drop(5, axis=1, inplace=True)"
   ]
  },
  {
   "cell_type": "code",
   "execution_count": 25,
   "metadata": {
    "execution": {
     "iopub.execute_input": "2020-08-21T16:41:45.289871Z",
     "iopub.status.busy": "2020-08-21T16:41:45.289172Z",
     "iopub.status.idle": "2020-08-21T16:41:45.342579Z",
     "shell.execute_reply": "2020-08-21T16:41:45.341977Z"
    },
    "papermill": {
     "duration": 0.089233,
     "end_time": "2020-08-21T16:41:45.342727",
     "exception": false,
     "start_time": "2020-08-21T16:41:45.253494",
     "status": "completed"
    },
    "tags": []
   },
   "outputs": [
    {
     "data": {
      "text/plain": [
       "LinearRegression()"
      ]
     },
     "execution_count": 25,
     "metadata": {},
     "output_type": "execute_result"
    }
   ],
   "source": [
    "lr = LinearRegression()\n",
    "lr.fit(new_df_train_prepared, new_df_train_labels)"
   ]
  },
  {
   "cell_type": "code",
   "execution_count": 26,
   "metadata": {
    "execution": {
     "iopub.execute_input": "2020-08-21T16:41:45.407717Z",
     "iopub.status.busy": "2020-08-21T16:41:45.406993Z",
     "iopub.status.idle": "2020-08-21T16:41:45.410022Z",
     "shell.execute_reply": "2020-08-21T16:41:45.410582Z"
    },
    "papermill": {
     "duration": 0.038674,
     "end_time": "2020-08-21T16:41:45.410749",
     "exception": false,
     "start_time": "2020-08-21T16:41:45.372075",
     "status": "completed"
    },
    "tags": []
   },
   "outputs": [],
   "source": [
    "def pred_and_score(model, df, labels):\n",
    "    pred = model.predict(df)\n",
    "    mse = mean_squared_error(labels, pred)\n",
    "    rmse = np.sqrt(mse)\n",
    "    r2 = r2_score(labels, pred)\n",
    "    mae = mean_absolute_error(labels, pred)\n",
    "\n",
    "    print(f\"RMSE: {rmse}\\nr2_score: {r2}\\nMAE: {mae}\")"
   ]
  },
  {
   "cell_type": "code",
   "execution_count": 27,
   "metadata": {
    "execution": {
     "iopub.execute_input": "2020-08-21T16:41:45.478128Z",
     "iopub.status.busy": "2020-08-21T16:41:45.477388Z",
     "iopub.status.idle": "2020-08-21T16:41:45.480906Z",
     "shell.execute_reply": "2020-08-21T16:41:45.481536Z"
    },
    "papermill": {
     "duration": 0.041688,
     "end_time": "2020-08-21T16:41:45.481694",
     "exception": false,
     "start_time": "2020-08-21T16:41:45.440006",
     "status": "completed"
    },
    "tags": []
   },
   "outputs": [
    {
     "name": "stdout",
     "output_type": "stream",
     "text": [
      "RMSE: 19600.55310077035\n",
      "r2_score: 0.9025025725756991\n",
      "MAE: 11581.863161174902\n"
     ]
    }
   ],
   "source": [
    "pred_and_score(lr, new_df_train_prepared, new_df_train_labels)"
   ]
  },
  {
   "cell_type": "code",
   "execution_count": 28,
   "metadata": {
    "execution": {
     "iopub.execute_input": "2020-08-21T16:41:45.548417Z",
     "iopub.status.busy": "2020-08-21T16:41:45.547483Z",
     "iopub.status.idle": "2020-08-21T16:41:45.550381Z",
     "shell.execute_reply": "2020-08-21T16:41:45.549814Z"
    },
    "papermill": {
     "duration": 0.038948,
     "end_time": "2020-08-21T16:41:45.550501",
     "exception": false,
     "start_time": "2020-08-21T16:41:45.511553",
     "status": "completed"
    },
    "tags": []
   },
   "outputs": [],
   "source": [
    "custom_train = new_df_train_prepared[[1,2,3]].copy()"
   ]
  },
  {
   "cell_type": "code",
   "execution_count": 29,
   "metadata": {
    "execution": {
     "iopub.execute_input": "2020-08-21T16:41:45.621525Z",
     "iopub.status.busy": "2020-08-21T16:41:45.620530Z",
     "iopub.status.idle": "2020-08-21T16:41:45.625340Z",
     "shell.execute_reply": "2020-08-21T16:41:45.624713Z"
    },
    "papermill": {
     "duration": 0.044922,
     "end_time": "2020-08-21T16:41:45.625466",
     "exception": false,
     "start_time": "2020-08-21T16:41:45.580544",
     "status": "completed"
    },
    "tags": []
   },
   "outputs": [
    {
     "data": {
      "text/plain": [
       "LinearRegression()"
      ]
     },
     "execution_count": 29,
     "metadata": {},
     "output_type": "execute_result"
    }
   ],
   "source": [
    "lr2 = LinearRegression()\n",
    "lr2.fit(custom_train, new_df_train_labels)"
   ]
  },
  {
   "cell_type": "code",
   "execution_count": 30,
   "metadata": {
    "execution": {
     "iopub.execute_input": "2020-08-21T16:41:45.696783Z",
     "iopub.status.busy": "2020-08-21T16:41:45.695947Z",
     "iopub.status.idle": "2020-08-21T16:41:45.700858Z",
     "shell.execute_reply": "2020-08-21T16:41:45.699957Z"
    },
    "papermill": {
     "duration": 0.04508,
     "end_time": "2020-08-21T16:41:45.701043",
     "exception": false,
     "start_time": "2020-08-21T16:41:45.655963",
     "status": "completed"
    },
    "tags": []
   },
   "outputs": [
    {
     "name": "stdout",
     "output_type": "stream",
     "text": [
      "RMSE: 19689.029861212748\n",
      "r2_score: 0.9016203805358597\n",
      "MAE: 11634.396835518251\n"
     ]
    }
   ],
   "source": [
    "pred_and_score(lr2, custom_train, new_df_train_labels)"
   ]
  },
  {
   "cell_type": "code",
   "execution_count": 31,
   "metadata": {
    "execution": {
     "iopub.execute_input": "2020-08-21T16:41:45.776932Z",
     "iopub.status.busy": "2020-08-21T16:41:45.775953Z",
     "iopub.status.idle": "2020-08-21T16:41:45.786065Z",
     "shell.execute_reply": "2020-08-21T16:41:45.785395Z"
    },
    "papermill": {
     "duration": 0.05003,
     "end_time": "2020-08-21T16:41:45.786193",
     "exception": false,
     "start_time": "2020-08-21T16:41:45.736163",
     "status": "completed"
    },
    "tags": []
   },
   "outputs": [
    {
     "name": "stdout",
     "output_type": "stream",
     "text": [
      "RMSE: 494.10598661905846\n",
      "r2_score: 0.9999380420935201\n",
      "MAE: 36.24946695095949\n"
     ]
    }
   ],
   "source": [
    "dt = DecisionTreeRegressor(random_state=42)\n",
    "dt.fit(new_df_train_prepared, new_df_train_labels)\n",
    "\n",
    "pred_and_score(dt, new_df_train_prepared, new_df_train_labels)"
   ]
  },
  {
   "cell_type": "markdown",
   "execution_count": null,
   "metadata": {
    "papermill": {
     "duration": 0.03245,
     "end_time": "2020-08-21T16:41:45.849467",
     "exception": false,
     "start_time": "2020-08-21T16:41:45.817017",
     "status": "completed"
    },
    "tags": []
   },
   "source": [
    "# On test data"
   ]
  },
  {
   "cell_type": "code",
   "execution_count": 32,
   "metadata": {
    "execution": {
     "iopub.execute_input": "2020-08-21T16:41:45.918753Z",
     "iopub.status.busy": "2020-08-21T16:41:45.918080Z",
     "iopub.status.idle": "2020-08-21T16:41:45.921335Z",
     "shell.execute_reply": "2020-08-21T16:41:45.920779Z"
    },
    "papermill": {
     "duration": 0.040778,
     "end_time": "2020-08-21T16:41:45.921453",
     "exception": false,
     "start_time": "2020-08-21T16:41:45.880675",
     "status": "completed"
    },
    "tags": []
   },
   "outputs": [],
   "source": [
    "x_test = new_df_test.drop('selling_price', axis=1)\n",
    "y_test = new_df_test['selling_price']"
   ]
  },
  {
   "cell_type": "code",
   "execution_count": 33,
   "metadata": {
    "execution": {
     "iopub.execute_input": "2020-08-21T16:41:46.005491Z",
     "iopub.status.busy": "2020-08-21T16:41:45.995152Z",
     "iopub.status.idle": "2020-08-21T16:41:46.011354Z",
     "shell.execute_reply": "2020-08-21T16:41:46.010650Z"
    },
    "papermill": {
     "duration": 0.058804,
     "end_time": "2020-08-21T16:41:46.011489",
     "exception": false,
     "start_time": "2020-08-21T16:41:45.952685",
     "status": "completed"
    },
    "tags": []
   },
   "outputs": [
    {
     "data": {
      "text/plain": [
       "array([[-0.34544427, -0.47836281, -0.41929189,  0.26680467,  0.        ,\n",
       "         1.        ],\n",
       "       [-0.34544427, -0.23297239,  0.36686484,  0.92194283,  0.        ,\n",
       "         1.        ],\n",
       "       [-0.34544427, -0.37889726, -0.42064668, -0.71590258,  0.        ,\n",
       "         1.        ],\n",
       "       [-0.34544427, -0.54651367,  0.72224708, -1.04347166,  0.        ,\n",
       "         1.        ],\n",
       "       [-0.34544427, -0.38086922, -0.05977204, -0.71590258,  0.        ,\n",
       "         1.        ],\n",
       "       [ 2.35477843,  0.31917579, -0.20305027,  0.59437375,  0.        ,\n",
       "         1.        ],\n",
       "       [-0.34544427,  0.2205779 , -0.35172325,  0.59437375,  0.        ,\n",
       "         1.        ],\n",
       "       [-0.34544427, -0.07521577, -0.10379663, -0.71590258,  0.        ,\n",
       "         1.        ],\n",
       "       [-0.34544427,  0.8318848 , -0.372277  ,  0.92194283,  0.        ,\n",
       "         1.        ],\n",
       "       [-0.34544427,  0.3980541 , -0.17873728,  0.59437375,  0.        ,\n",
       "         1.        ],\n",
       "       [-0.34544427, -0.46960732, -0.19487271,  0.26680467,  0.        ,\n",
       "         1.        ],\n",
       "       [ 2.35477843, -0.34143006,  3.12530329, -0.3883335 ,  0.        ,\n",
       "         1.        ],\n",
       "       [-0.34544427,  0.1110948 , -0.40023939, -0.06076441,  0.        ,\n",
       "         1.        ],\n",
       "       [ 2.35477843, -0.25269197, -0.48489547, -0.71590258,  0.        ,\n",
       "         1.        ],\n",
       "       [ 2.35477843,  0.12198001, -0.42851911, -0.3883335 ,  0.        ,\n",
       "         1.        ],\n",
       "       [ 2.35477843,  0.24167785, -0.40023939, -0.06076441,  0.        ,\n",
       "         1.        ],\n",
       "       [-0.34544427,  1.20655678, -0.47200665,  1.90465008,  0.        ,\n",
       "         1.        ],\n",
       "       [-0.34544427, -0.59778457, -0.38302989, -1.37104074,  0.        ,\n",
       "         1.        ],\n",
       "       [-0.34544427, -0.43016816, -0.30352445, -0.06076441,  0.        ,\n",
       "         1.        ],\n",
       "       [-0.34544427,  0.71356734, -0.05977204,  0.26680467,  0.        ,\n",
       "         1.        ],\n",
       "       [-0.34544427, -0.15409408,  0.70865036, -0.71590258,  0.        ,\n",
       "         1.        ],\n",
       "       [-0.34544427, -0.39072901, -0.36026697, -1.04347166,  0.        ,\n",
       "         1.        ],\n",
       "       [-0.34544427, -0.08507556, -0.47200665,  0.59437375,  0.        ,\n",
       "         1.        ],\n",
       "       [-0.34544427,  0.00957842, -0.32493257, -0.71590258,  0.        ,\n",
       "         1.        ],\n",
       "       [-0.34544427, -0.23297239, -0.29720209, -0.71590258,  0.        ,\n",
       "         1.        ],\n",
       "       [-0.34544427, -0.50904647, -0.0114634 , -0.3883335 ,  0.        ,\n",
       "         1.        ],\n",
       "       [-0.34544427, -0.39072901, -0.29720209,  0.26680467,  0.        ,\n",
       "         1.        ],\n",
       "       [-0.34544427,  0.02338212, -0.40023939,  0.92194283,  0.        ,\n",
       "         1.        ],\n",
       "       [-0.34544427, -0.61750415,  0.54607552, -1.37104074,  0.        ,\n",
       "         1.        ],\n",
       "       [-0.34544427, -0.37100943, -0.29720209, -1.04347166,  0.        ,\n",
       "         1.        ],\n",
       "       [-0.34544427, -0.15409408, -0.02679328,  0.59437375,  0.        ,\n",
       "         1.        ],\n",
       "       [-0.34544427,  0.07729545, -0.53927016,  1.24951191,  0.        ,\n",
       "         1.        ],\n",
       "       [-0.34544427, -0.48080804, -0.42948333, -0.71590258,  0.        ,\n",
       "         1.        ],\n",
       "       [-0.34544427, -0.26255175, -0.04794509, -0.71590258,  0.        ,\n",
       "         1.        ],\n",
       "       [-0.34544427, -0.37100943, -0.26549268, -1.04347166,  0.        ,\n",
       "         1.        ],\n",
       "       [-0.34544427,  0.16141916, -0.09690062, -0.3883335 ,  0.        ,\n",
       "         1.        ],\n",
       "       [-0.34544427, -0.17381365, -0.26205078, -0.06076441,  0.        ,\n",
       "         1.        ],\n",
       "       [-0.34544427, -0.07521577, -0.53927016,  0.26680467,  0.        ,\n",
       "         1.        ],\n",
       "       [-0.34544427, -0.41044859, -0.35511633, -1.04347166,  0.        ,\n",
       "         1.        ],\n",
       "       [-0.34544427,  0.2205779 ,  1.22509397, -0.06076441,  0.        ,\n",
       "         1.        ],\n",
       "       [-0.34544427,  0.26001705, -0.38312753,  1.24951191,  0.        ,\n",
       "         1.        ],\n",
       "       [-0.34544427,  0.0289036 , -0.45092807, -0.06076441,  0.        ,\n",
       "         1.        ],\n",
       "       [-0.34544427,  0.63468903, -0.36318404,  2.23221916,  0.        ,\n",
       "         1.        ],\n",
       "       [-0.34544427,  0.86327837, -0.17873728,  0.26680467,  0.        ,\n",
       "         1.        ],\n",
       "       [ 2.35477843, -0.15409408, -0.17013253,  1.577081  ,  0.        ,\n",
       "         1.        ],\n",
       "       [-0.34544427,  0.27973663, -0.29720209, -0.06076441,  0.        ,\n",
       "         1.        ],\n",
       "       [-0.34544427,  1.30515467, -0.47200665,  1.577081  ,  0.        ,\n",
       "         1.        ],\n",
       "       [-0.34544427, -0.60370045,  0.05444532, -1.37104074,  0.        ,\n",
       "         1.        ],\n",
       "       [-0.34544427, -0.27241154, -0.41905999,  1.24951191,  0.        ,\n",
       "         1.        ],\n",
       "       [ 2.35477843,  0.02338212, -0.56242365,  0.92194283,  0.        ,\n",
       "         1.        ],\n",
       "       [-0.34544427, -0.3118507 , -0.42064668, -0.3883335 ,  0.        ,\n",
       "         1.        ],\n",
       "       [-0.34544427, -0.35128985,  1.38372649, -0.3883335 ,  0.        ,\n",
       "         1.        ],\n",
       "       [-0.34544427, -0.23297239, -0.47200665,  0.92194283,  0.        ,\n",
       "         1.        ],\n",
       "       [-0.34544427, -0.6107009 ,  0.91730027, -1.04347166,  0.        ,\n",
       "         1.        ],\n",
       "       [-0.34544427, -0.49129885, -0.217123  , -1.37104074,  0.        ,\n",
       "         1.        ],\n",
       "       [-0.34544427, -0.35128985, -0.45092807, -0.3883335 ,  0.        ,\n",
       "         1.        ],\n",
       "       [-0.34544427, -0.59778457,  0.00858994, -1.04347166,  0.        ,\n",
       "         1.        ],\n",
       "       [-0.34544427, -0.49918669,  0.2265403 , -1.37104074,  0.        ,\n",
       "         1.        ],\n",
       "       [-0.34544427, -0.3118507 , -0.33368379, -0.71590258,  0.        ,\n",
       "         1.        ],\n",
       "       [ 2.35477843,  0.02338212, -0.38982825,  0.59437375,  0.        ,\n",
       "         1.        ],\n",
       "       [-0.34544427, -0.41900688, -0.48563999,  0.26680467,  0.        ,\n",
       "         1.        ],\n",
       "       [-0.34544427,  1.32487424, -0.51056325,  1.24951191,  0.        ,\n",
       "         1.        ],\n",
       "       [-0.34544427, -0.52876605, -0.507695  ,  0.59437375,  0.        ,\n",
       "         1.        ],\n",
       "       [-0.34544427, -0.65694331, -0.4264442 , -1.04347166,  0.        ,\n",
       "         1.        ],\n",
       "       [-0.34544427, -0.46960732, -0.47200665,  0.26680467,  0.        ,\n",
       "         1.        ],\n",
       "       [-0.34544427, -0.52876605, -0.36318404,  0.26680467,  0.        ,\n",
       "         1.        ],\n",
       "       [-0.34544427,  0.18113874, -0.56242365,  1.577081  ,  0.        ,\n",
       "         1.        ],\n",
       "       [-0.34544427, -0.31461144, -0.47200665,  2.55978824,  0.        ,\n",
       "         1.        ],\n",
       "       [-0.34544427, -0.15409408, -0.16400546, -0.06076441,  0.        ,\n",
       "         1.        ],\n",
       "       [-0.34544427, -0.53931603, -0.33956675, -1.04347166,  0.        ,\n",
       "         1.        ],\n",
       "       [-0.34544427, -0.25269197, -0.33368379, -1.04347166,  0.        ,\n",
       "         1.        ],\n",
       "       [-0.34544427, -0.4893269 , -0.28454518, -0.71590258,  0.        ,\n",
       "         1.        ],\n",
       "       [-0.34544427, -0.54848563, -0.07737211,  0.59437375,  0.        ,\n",
       "         1.        ],\n",
       "       [-0.34544427,  0.65440861, -0.12482639,  1.24951191,  0.        ,\n",
       "         1.        ],\n",
       "       [-0.34544427,  0.69384776, -0.17873728,  1.577081  ,  0.        ,\n",
       "         1.        ],\n",
       "       [ 2.35477843, -0.43016816, -0.36318404,  0.92194283,  0.        ,\n",
       "         1.        ],\n",
       "       [-0.34544427, -0.4005888 , -0.46080217, -0.3883335 ,  0.        ,\n",
       "         1.        ],\n",
       "       [-0.34544427, -0.44988774,  0.23264296, -0.06076441,  0.        ,\n",
       "         1.        ],\n",
       "       [-0.34544427, -0.41044859,  0.35379295, -0.71590258,  0.        ,\n",
       "         1.        ],\n",
       "       [-0.34544427,  0.31917579, -0.56242365,  1.90465008,  0.        ,\n",
       "         1.        ],\n",
       "       [-0.34544427,  0.81216523, -0.20971437,  1.577081  ,  0.        ,\n",
       "         1.        ],\n",
       "       [ 2.35477843, -0.27241154, -0.11603856, -0.3883335 ,  0.        ,\n",
       "         1.        ],\n",
       "       [-0.34544427, -0.15409408, -0.40023939, -0.71590258,  0.        ,\n",
       "         1.        ],\n",
       "       [-0.34544427, -0.11293932, -0.31004209,  0.59437375,  0.        ,\n",
       "         1.        ],\n",
       "       [-0.34544427, -0.58971927, -0.13473711, -0.06076441,  0.        ,\n",
       "         1.        ],\n",
       "       [-0.34544427,  0.51637156, -0.47200665,  1.90465008,  0.        ,\n",
       "         1.        ],\n",
       "       [-0.34544427, -0.5544015 ,  0.45233868, -1.04347166,  0.        ,\n",
       "         1.        ],\n",
       "       [-0.34544427,  0.81216523, -0.21064198,  1.577081  ,  0.        ,\n",
       "         1.        ],\n",
       "       [ 2.35477843, -0.17381365, -0.38982825,  0.26680467,  0.        ,\n",
       "         1.        ],\n",
       "       [-0.34544427, -0.17381365, -0.09070032, -1.04347166,  0.        ,\n",
       "         1.        ],\n",
       "       [-0.34544427, -0.61356024, -0.28454518, -0.06076441,  0.        ,\n",
       "         1.        ],\n",
       "       [-0.34544427, -0.33157028, -0.33368379,  0.59437375,  0.        ,\n",
       "         1.        ],\n",
       "       [-0.34544427, -0.64708352, -0.41423888, -1.04347166,  0.        ,\n",
       "         1.        ],\n",
       "       [-0.34544427,  0.12198001,  1.05039926,  1.24951191,  0.        ,\n",
       "         1.        ],\n",
       "       [-0.34544427,  0.2205779 , -0.48568882,  0.26680467,  0.        ,\n",
       "         1.        ],\n",
       "       [-0.34544427, -0.52876605,  1.11783364, -1.04347166,  0.        ,\n",
       "         1.        ],\n",
       "       [-0.34544427, -0.5385864 , -0.38302989, -1.04347166,  0.        ,\n",
       "         1.        ],\n",
       "       [-0.34544427,  0.06282128, -0.12482639, -0.3883335 ,  0.        ,\n",
       "         1.        ],\n",
       "       [-0.34544427,  0.12198001, -0.18950237, -0.06076441,  0.        ,\n",
       "         1.        ],\n",
       "       [-0.34544427, -0.61356024,  0.91618958, -1.37104074,  0.        ,\n",
       "         1.        ],\n",
       "       [-0.34544427,  0.22886012, -0.09070032, -0.3883335 ,  0.        ,\n",
       "         1.        ],\n",
       "       [-0.34544427, -0.19353323,  0.07397383,  0.59437375,  0.        ,\n",
       "         1.        ],\n",
       "       [-0.34544427, -0.21325281,  0.08562991, -1.04347166,  0.        ,\n",
       "         1.        ],\n",
       "       [-0.34544427,  0.31917579, -0.12497285,  1.577081  ,  0.        ,\n",
       "         1.        ],\n",
       "       [-0.34544427,  0.31917579,  0.03826107, -0.06076441,  0.        ,\n",
       "         1.        ],\n",
       "       [-0.34544427, -0.09493534, -0.40023939,  0.59437375,  0.        ,\n",
       "         1.        ],\n",
       "       [-0.34544427,  0.08254085, -0.01704123, -0.71590258,  0.        ,\n",
       "         1.        ],\n",
       "       [-0.34544427,  0.08254085, -0.17873728,  0.59437375,  0.        ,\n",
       "         1.        ],\n",
       "       [-0.34544427, -0.29213112, -0.45085484, -0.3883335 ,  0.        ,\n",
       "         1.        ],\n",
       "       [-0.34544427,  0.31917579, -0.56242365,  0.92194283,  0.        ,\n",
       "         1.        ],\n",
       "       [-0.34544427, -0.46960732, -0.41716816, -1.04347166,  0.        ,\n",
       "         1.        ],\n",
       "       [-0.34544427, -0.60764436, -0.36026697, -1.37104074,  0.        ,\n",
       "         1.        ],\n",
       "       [-0.34544427,  0.31917579,  1.38149291, -0.06076441,  0.        ,\n",
       "         1.        ],\n",
       "       [-0.34544427, -0.39072901, -0.40227767, -0.06076441,  0.        ,\n",
       "         1.        ],\n",
       "       [-0.34544427,  0.16141916, -0.05977204, -0.71590258,  0.        ,\n",
       "         1.        ],\n",
       "       [-0.34544427, -0.60764436,  1.23347902, -1.04347166,  0.        ,\n",
       "         1.        ],\n",
       "       [-0.34544427,  0.12198001, -0.12965969, -0.06076441,  0.        ,\n",
       "         1.        ],\n",
       "       [-0.34544427, -0.17381365,  1.24414647,  0.26680467,  0.        ,\n",
       "         1.        ],\n",
       "       [-0.34544427, -0.55215347,  0.72224708, -1.04347166,  0.        ,\n",
       "         1.        ],\n",
       "       [-0.34544427,  0.12198001, -0.02315609, -0.3883335 ,  0.        ,\n",
       "         1.        ],\n",
       "       [-0.34544427,  0.0431017 , -0.04794509,  2.23221916,  0.        ,\n",
       "         1.        ],\n",
       "       [ 2.35477843, -0.27241154, -0.36425811, -0.3883335 ,  0.        ,\n",
       "         1.        ],\n",
       "       [-0.34544427, -0.38503005, -0.56242365,  0.26680467,  0.        ,\n",
       "         1.        ],\n",
       "       [ 2.35477843, -0.07521577, -0.29720209,  1.24951191,  0.        ,\n",
       "         1.        ],\n",
       "       [-0.34544427, -0.44988774, -0.433328  , -0.71590258,  0.        ,\n",
       "         1.        ],\n",
       "       [-0.34544427, -0.35128985, -0.05728216, -0.3883335 ,  0.        ,\n",
       "         1.        ],\n",
       "       [-0.34544427, -0.35349845, -0.36838351,  0.59437375,  0.        ,\n",
       "         1.        ],\n",
       "       [-0.34544427, -0.51200441, -0.04794509, -0.71590258,  1.        ,\n",
       "         0.        ],\n",
       "       [-0.34544427,  0.08254085, -0.372277  ,  0.59437375,  0.        ,\n",
       "         1.        ],\n",
       "       [-0.34544427,  1.15199271, -0.17013253,  2.23221916,  0.        ,\n",
       "         1.        ],\n",
       "       [-0.34544427, -0.52876605, -0.10910594, -1.04347166,  0.        ,\n",
       "         1.        ],\n",
       "       [-0.34544427, -0.33157028,  0.08562991, -0.3883335 ,  0.        ,\n",
       "         1.        ],\n",
       "       [-0.34544427,  0.81216523, -0.38312753,  0.92194283,  0.        ,\n",
       "         1.        ],\n",
       "       [-0.34544427,  0.35861494, -0.47200665,  0.26680467,  0.        ,\n",
       "         1.        ],\n",
       "       [-0.34544427, -0.52876605,  0.04542559, -1.04347166,  0.        ,\n",
       "         1.        ],\n",
       "       [-0.34544427,  1.30515467,  0.04542559, -0.3883335 ,  0.        ,\n",
       "         1.        ],\n",
       "       [-0.34544427, -0.32269647, -0.54374951, -0.3883335 ,  0.        ,\n",
       "         1.        ],\n",
       "       [-0.34544427, -0.21325281, -0.28454518, -1.04347166,  0.        ,\n",
       "         1.        ],\n",
       "       [-0.34544427,  0.51637156, -0.29720209,  1.24951191,  0.        ,\n",
       "         1.        ],\n",
       "       [-0.34544427, -0.46960732,  0.54607552, -1.37104074,  0.        ,\n",
       "         1.        ],\n",
       "       [ 2.35477843, -0.35128985, -0.16400546, -0.06076441,  0.        ,\n",
       "         1.        ],\n",
       "       [-0.34544427, -0.3118507 ,  0.74526631, -1.04347166,  0.        ,\n",
       "         1.        ],\n",
       "       [-0.34544427,  0.02338212,  0.62321313, -1.04347166,  0.        ,\n",
       "         1.        ],\n",
       "       [ 2.35477843, -0.39861684,  6.22545402, -0.71590258,  0.        ,\n",
       "         1.        ],\n",
       "       [-0.34544427, -0.21325281,  0.00858994, -0.06076441,  0.        ,\n",
       "         1.        ],\n",
       "       [-0.34544427,  1.28543509, -0.12924471,  0.26680467,  0.        ,\n",
       "         1.        ],\n",
       "       [-0.34544427,  0.81216523, -0.06715626,  0.26680467,  0.        ,\n",
       "         1.        ],\n",
       "       [-0.34544427, -0.08261061, -0.36318404,  1.90465008,  0.        ,\n",
       "         1.        ],\n",
       "       [-0.34544427, -0.23297239, -0.45085484,  0.92194283,  0.        ,\n",
       "         1.        ],\n",
       "       [-0.34544427, -0.46960732, -0.21835574, -1.37104074,  0.        ,\n",
       "         1.        ],\n",
       "       [-0.34544427,  0.16141916, -0.35172325, -0.3883335 ,  0.        ,\n",
       "         1.        ],\n",
       "       [-0.34544427, -0.07521577,  0.36686484,  0.59437375,  1.        ,\n",
       "         0.        ],\n",
       "       [-0.34544427, -0.17381365, -0.5145788 ,  0.59437375,  0.        ,\n",
       "         1.        ],\n",
       "       [-0.34544427, -0.27241154, -0.217123  , -1.04347166,  0.        ,\n",
       "         1.        ],\n",
       "       [-0.34544427, -0.47355123,  3.30838306, -0.3883335 ,  0.        ,\n",
       "         1.        ],\n",
       "       [-0.34544427,  0.41777367, -0.04794509,  2.23221916,  0.        ,\n",
       "         1.        ],\n",
       "       [-0.34544427, -0.07521577, -0.04794509,  0.26680467,  0.        ,\n",
       "         1.        ]])"
      ]
     },
     "execution_count": 33,
     "metadata": {},
     "output_type": "execute_result"
    }
   ],
   "source": [
    "test_prepared = col_transformer.transform(x_test)\n",
    "test_prepared"
   ]
  },
  {
   "cell_type": "code",
   "execution_count": 34,
   "metadata": {
    "execution": {
     "iopub.execute_input": "2020-08-21T16:41:46.083047Z",
     "iopub.status.busy": "2020-08-21T16:41:46.082353Z",
     "iopub.status.idle": "2020-08-21T16:41:46.085859Z",
     "shell.execute_reply": "2020-08-21T16:41:46.085282Z"
    },
    "papermill": {
     "duration": 0.042061,
     "end_time": "2020-08-21T16:41:46.085977",
     "exception": false,
     "start_time": "2020-08-21T16:41:46.043916",
     "status": "completed"
    },
    "tags": []
   },
   "outputs": [],
   "source": [
    "test_prepared = pd.DataFrame(test_prepared).drop(5, axis=1)"
   ]
  },
  {
   "cell_type": "code",
   "execution_count": 35,
   "metadata": {
    "execution": {
     "iopub.execute_input": "2020-08-21T16:41:46.158350Z",
     "iopub.status.busy": "2020-08-21T16:41:46.157595Z",
     "iopub.status.idle": "2020-08-21T16:41:46.161216Z",
     "shell.execute_reply": "2020-08-21T16:41:46.161911Z"
    },
    "papermill": {
     "duration": 0.044709,
     "end_time": "2020-08-21T16:41:46.162144",
     "exception": false,
     "start_time": "2020-08-21T16:41:46.117435",
     "status": "completed"
    },
    "tags": []
   },
   "outputs": [
    {
     "name": "stdout",
     "output_type": "stream",
     "text": [
      "RMSE: 23138.37494101148\n",
      "r2_score: 0.7868263501082535\n",
      "MAE: 13466.235668789808\n"
     ]
    }
   ],
   "source": [
    "pred_and_score(dt, test_prepared, y_test)"
   ]
  },
  {
   "cell_type": "code",
   "execution_count": 36,
   "metadata": {
    "execution": {
     "iopub.execute_input": "2020-08-21T16:41:46.234745Z",
     "iopub.status.busy": "2020-08-21T16:41:46.233982Z",
     "iopub.status.idle": "2020-08-21T16:41:46.236714Z",
     "shell.execute_reply": "2020-08-21T16:41:46.237210Z"
    },
    "papermill": {
     "duration": 0.042849,
     "end_time": "2020-08-21T16:41:46.237404",
     "exception": false,
     "start_time": "2020-08-21T16:41:46.194555",
     "status": "completed"
    },
    "tags": []
   },
   "outputs": [
    {
     "name": "stdout",
     "output_type": "stream",
     "text": [
      "RMSE: 16350.939025334352\n",
      "r2_score: 0.8935481506551551\n",
      "MAE: 10479.321730579984\n"
     ]
    }
   ],
   "source": [
    "pred_and_score(lr, test_prepared, y_test)"
   ]
  },
  {
   "cell_type": "code",
   "execution_count": null,
   "metadata": {
    "papermill": {
     "duration": 0.031826,
     "end_time": "2020-08-21T16:41:46.300820",
     "exception": false,
     "start_time": "2020-08-21T16:41:46.268994",
     "status": "completed"
    },
    "tags": []
   },
   "outputs": [],
   "source": []
  }
 ],
 "metadata": {
  "kernelspec": {
   "display_name": "Python 3",
   "language": "python",
   "name": "python3"
  },
  "language_info": {
   "codemirror_mode": {
    "name": "ipython",
    "version": 3
   },
   "file_extension": ".py",
   "mimetype": "text/x-python",
   "name": "python",
   "nbconvert_exporter": "python",
   "pygments_lexer": "ipython3",
   "version": "3.7.6"
  },
  "papermill": {
   "duration": 17.173551,
   "end_time": "2020-08-21T16:41:46.441736",
   "environment_variables": {},
   "exception": null,
   "input_path": "__notebook__.ipynb",
   "output_path": "__notebook__.ipynb",
   "parameters": {},
   "start_time": "2020-08-21T16:41:29.268185",
   "version": "2.1.0"
  }
 },
 "nbformat": 4,
 "nbformat_minor": 4
}
